{
 "cells": [
  {
   "cell_type": "markdown",
   "metadata": {},
   "source": [
    "# Simple example for analysis and visualization of images in this repo"
   ]
  },
  {
   "cell_type": "code",
   "execution_count": null,
   "metadata": {},
   "outputs": [],
   "source": [
    "from utils import utils\n",
    "import matplotlib.pyplot as plt"
   ]
  },
  {
   "cell_type": "markdown",
   "metadata": {},
   "source": [
    "Paths to folder with images and image types to visualize"
   ]
  },
  {
   "cell_type": "code",
   "execution_count": 3,
   "metadata": {},
   "outputs": [],
   "source": [
    "data_base_path = './Data'\n",
    "processed_base_path = './Data_processed'\n",
    "subfolders = ['test', 'train', 'val']\n",
    "image_types = ['COVID19', 'NORMAL', 'PNEUMONIA', 'TURBERCULOSIS']"
   ]
  },
  {
   "cell_type": "markdown",
   "metadata": {},
   "source": [
    "Visualize some images"
   ]
  },
  {
   "cell_type": "code",
   "execution_count": null,
   "metadata": {},
   "outputs": [],
   "source": [
    "for ty in image_types:\n",
    "    print(ty)\n",
    "    img_paths = utils.get_images([data_base_path] + ty, n=9)\n",
    "    utils.plot_grid_images(img_paths)\n",
    "    print(img_paths)"
   ]
  },
  {
   "cell_type": "markdown",
   "metadata": {},
   "source": [
    "Loads all images for analysis"
   ]
  },
  {
   "cell_type": "code",
   "execution_count": null,
   "metadata": {},
   "outputs": [],
   "source": [
    "# get path to all images\n",
    "img_paths = []\n",
    "for subfolder in subfolders:\n",
    "    for ty in image_types:\n",
    "        folder_path = f\"{data_base_path}/{subfolder}/{ty}\"\n",
    "        img_paths += utils.get_image_paths(folder_path=folder_path)\n",
    "\n",
    "# load images in parallel\n",
    "load_img = lambda path: utils.load_image(path, grayscale=True)\n",
    "imgs = Parallel(n_jobs=-1)(delayed(load_img)(img_path) for img_path in img_paths)"
   ]
  },
  {
   "cell_type": "code",
   "execution_count": 7,
   "metadata": {},
   "outputs": [
    {
     "data": {
      "text/plain": [
       "<matplotlib.collections.PathCollection at 0x7fd592408bb0>"
      ]
     },
     "execution_count": 7,
     "metadata": {},
     "output_type": "execute_result"
    },
    {
     "data": {
      "image/png": "[encoded data removed]",
      "text/plain": [
       "<Figure size 640x480 with 1 Axes>"
      ]
     },
     "metadata": {},
     "output_type": "display_data"
    }
   ],
   "source": [
    "shapes = np.array([img.shape for img in imgs])\n",
    "plt.scatter(shapes[:,0], shapes[:,1])\n",
    "plt.show()"
   ]
  },
  {
   "cell_type": "code",
   "execution_count": 40,
   "metadata": {},
   "outputs": [
    {
     "name": "stdout",
     "output_type": "stream",
     "text": [
      "width vs height of median 2D point\n"
     ]
    },
    {
     "data": {
      "text/plain": [
       "array([ 864, 1208])"
      ]
     },
     "execution_count": 40,
     "metadata": {},
     "output_type": "execute_result"
    }
   ],
   "source": [
    "# get the \"median\" image in the scatterplot\n",
    "pairwise_distances = np.linalg.norm(shapes[:, np.newaxis] - shapes, axis=2)\n",
    "distance_sums = np.sum(pairwise_distances, axis=1)\n",
    "\n",
    "print(\"height vs width of median-sized image\")\n",
    "median_figure_shape = shapes[np.argmin(distance_sums)]\n",
    "median_figure_shape"
   ]
  },
  {
   "cell_type": "markdown",
   "metadata": {},
   "source": [
    "Resize images"
   ]
  },
  {
   "cell_type": "code",
   "execution_count": 4,
   "metadata": {},
   "outputs": [],
   "source": [
    "for subfolder in subfolders:\n",
    "    for ty in image_types:\n",
    "        img_paths = utils.get_image_paths(f\"{data_base_path}/{subfolder}/{ty}\", n=-1)\n",
    "        out_path = f\"{processed_base_path}/{subfolder}/{ty}/\"\n",
    "        utils.resize_images_parallel(img_paths, 864, 1208, out_path)"
   ]
  }
 ],
 "metadata": {
  "kernelspec": {
   "display_name": "Python 3",
   "language": "python",
   "name": "python3"
  },
  "language_info": {
   "codemirror_mode": {
    "name": "ipython",
    "version": 3
   },
   "file_extension": ".py",
   "mimetype": "text/x-python",
   "name": "python",
   "nbconvert_exporter": "python",
   "pygments_lexer": "ipython3",
   "version": "3.11.5"
  }
 },
 "nbformat": 4,
 "nbformat_minor": 2
}
